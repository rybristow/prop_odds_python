{
 "cells": [
  {
   "cell_type": "code",
   "execution_count": 5,
   "id": "471b51bd",
   "metadata": {},
   "outputs": [],
   "source": [
    "import requests\n",
    "import urllib\n",
    "from datetime import datetime\n",
    "import pandas as pd\n",
    "import os  "
   ]
  },
  {
   "cell_type": "code",
   "execution_count": 6,
   "id": "9e84e4c1",
   "metadata": {},
   "outputs": [],
   "source": [
    "BASE_URL = 'https://api.prop-odds.com'\n",
    "API_KEY = 'uFcMVCz1xFwmnWfiasNWFZl3mbrFNrhjsRlo45P38'"
   ]
  },
  {
   "cell_type": "code",
   "execution_count": 7,
   "id": "6f8f3c3d",
   "metadata": {},
   "outputs": [],
   "source": [
    "def get_request(url):\n",
    "    response = requests.get(url)\n",
    "    if response.status_code == 200:\n",
    "        return response.json()\n",
    "\n",
    "    print('Request failed with status:', response.status_code)\n",
    "    return {}\n",
    "\n",
    "def get_games(league):\n",
    "    now = datetime.now()\n",
    "    query_params = {\n",
    "        'date': now.strftime('%Y-%m-%d'),\n",
    "        'tz': 'America/New_York',\n",
    "        'api_key': API_KEY,\n",
    "    }\n",
    "    params = urllib.parse.urlencode(query_params)\n",
    "    url = BASE_URL + '/beta/games/' + league + '?' + params\n",
    "    return get_request(url)\n",
    "def get_game_info(game_id):\n",
    "    query_params = {\n",
    "        'api_key': API_KEY,\n",
    "    }\n",
    "    params = urllib.parse.urlencode(query_params)\n",
    "    url = BASE_URL + '/beta/game/' + game_id + '?' + params\n",
    "    return get_request(url)\n",
    "\n",
    "\n",
    "def get_markets(game_id):\n",
    "    query_params = {\n",
    "        'api_key': API_KEY,\n",
    "    }\n",
    "    params = urllib.parse.urlencode(query_params)\n",
    "    url = BASE_URL + '/beta/markets/' + game_id + '?' + params\n",
    "    return get_request(url)\n",
    "\n",
    "\n",
    "def get_most_recent_odds(game_id, market):\n",
    "    query_params = {\n",
    "        'api_key': API_KEY,\n",
    "    }\n",
    "    params = urllib.parse.urlencode(query_params)\n",
    "    url = BASE_URL + '/beta/odds/' + game_id + '/' + market + '?' + params\n",
    "    return get_request(url)"
   ]
  },
  {
   "cell_type": "code",
   "execution_count": 8,
   "id": "d11058c0",
   "metadata": {},
   "outputs": [],
   "source": [
    "def example():\n",
    "    games = get_games('nba')\n",
    "    if len(games['games']) == 0:\n",
    "        print('No games scheduled for today.')\n",
    "        return\n",
    "\n",
    "    first_game = games['games'][0]\n",
    "    game_id = first_game['game_id']\n",
    "    # print(first_game)\n",
    "    game_info = get_game_info(game_id)\n",
    "    # print(game_info)\n",
    "\n",
    "    markets = get_markets(game_id)\n",
    "    # print(markets)\n",
    "    if len(markets['markets']) == 0:\n",
    "        print('No markets found.')\n",
    "        return\n",
    "\n",
    "    first_market = markets['markets'][0]\n",
    "    # print(first_market)\n",
    "    odds = get_most_recent_odds(game_id, first_market['name'])\n",
    "    print(odds)"
   ]
  },
  {
   "cell_type": "code",
   "execution_count": 12,
   "id": "e27b7b26",
   "metadata": {},
   "outputs": [
    {
     "name": "stdout",
     "output_type": "stream",
     "text": [
      "{'game_id': 'bb4452564b25f5c65dbd466e2a20d60a', 'markets': [{'name': 'final_score'}, {'name': 'first_half_moneyline'}, {'name': 'first_half_spread'}, {'name': 'first_half_spread_alternate'}, {'name': 'first_half_team_over_under'}, {'name': 'first_half_total_over_under'}, {'name': 'first_quarter_moneyline'}, {'name': 'first_quarter_spread'}, {'name': 'first_quarter_total'}, {'name': 'has_overtime'}, {'name': 'moneyline'}, {'name': 'moneyline_regulation'}, {'name': 'player_assists_over_under'}, {'name': 'player_assists_points_over_under'}, {'name': 'player_assists_points_rebounds_over_under'}, {'name': 'player_assists_rebounds_over_under'}, {'name': 'player_blocks_over_under'}, {'name': 'player_blocks_steals_over_under'}, {'name': 'player_double_double'}, {'name': 'player_first_basket'}, {'name': 'player_first_basket_method'}, {'name': 'player_min_assists'}, {'name': 'player_min_assists_points'}, {'name': 'player_min_assists_points_rebounds'}, {'name': 'player_min_blocks'}, {'name': 'player_min_points'}, {'name': 'player_min_points_and_rebounds'}, {'name': 'player_min_rebounds'}, {'name': 'player_min_steals'}, {'name': 'player_min_threes'}, {'name': 'player_most_points'}, {'name': 'player_points_over_under'}, {'name': 'player_points_rebounds_over_under'}, {'name': 'player_rebounds_over_under'}, {'name': 'player_steals_over_under'}, {'name': 'player_threes_over_under'}, {'name': 'player_triple_double'}, {'name': 'player_turnovers_over_under'}, {'name': 'spread'}, {'name': 'spread_alternate'}, {'name': 'team_over_under'}, {'name': 'team_over_under_alternate'}, {'name': 'total_odd_even'}, {'name': 'total_over_under'}, {'name': 'total_over_under_alternate'}]}\n"
     ]
    }
   ],
   "source": [
    "#Fetch data\n",
    "def fetchRecentGameData():\n",
    "    games = get_games('nba')\n",
    "    if len(games['games']) == 0:\n",
    "        print('No games scheduled for today.')\n",
    "        return\n",
    "    \n",
    "    first_game = games['games'][0]\n",
    "    game_id = first_game['game_id']\n",
    "    \n",
    "    markets = get_markets(game_id)\n",
    "    if len(markets['markets']) == 0:\n",
    "        print('No markets found.')\n",
    "        return\n",
    "    \n",
    "    print(markets)\n",
    "    \n",
    "fetchRecentGameData()"
   ]
  },
  {
   "cell_type": "code",
   "execution_count": 1,
   "id": "471fb8c1",
   "metadata": {},
   "outputs": [
    {
     "ename": "NameError",
     "evalue": "name 'nuggets_props' is not defined",
     "output_type": "error",
     "traceback": [
      "\u001b[0;31m---------------------------------------------------------------------------\u001b[0m",
      "\u001b[0;31mNameError\u001b[0m                                 Traceback (most recent call last)",
      "\u001b[0;32m<ipython-input-1-46e12f8954b1>\u001b[0m in \u001b[0;36m<module>\u001b[0;34m\u001b[0m\n\u001b[1;32m      1\u001b[0m \u001b[0;32mimport\u001b[0m \u001b[0mpandas\u001b[0m \u001b[0;32mas\u001b[0m \u001b[0mpd\u001b[0m\u001b[0;34m\u001b[0m\u001b[0;34m\u001b[0m\u001b[0m\n\u001b[1;32m      2\u001b[0m \u001b[0mdataframes\u001b[0m \u001b[0;34m=\u001b[0m \u001b[0;34m[\u001b[0m\u001b[0;34m]\u001b[0m\u001b[0;34m\u001b[0m\u001b[0;34m\u001b[0m\u001b[0m\n\u001b[0;32m----> 3\u001b[0;31m \u001b[0;32mfor\u001b[0m \u001b[0msite\u001b[0m \u001b[0;32min\u001b[0m \u001b[0mnuggets_props\u001b[0m\u001b[0;34m[\u001b[0m\u001b[0;34m\"sportsbooks\"\u001b[0m\u001b[0;34m]\u001b[0m\u001b[0;34m:\u001b[0m\u001b[0;34m\u001b[0m\u001b[0;34m\u001b[0m\u001b[0m\n\u001b[0m\u001b[1;32m      4\u001b[0m     \u001b[0mprint\u001b[0m\u001b[0;34m(\u001b[0m\u001b[0msite\u001b[0m\u001b[0;34m[\u001b[0m\u001b[0;34m\"bookie_key\"\u001b[0m\u001b[0;34m]\u001b[0m\u001b[0;34m)\u001b[0m\u001b[0;34m\u001b[0m\u001b[0;34m\u001b[0m\u001b[0m\n\u001b[1;32m      5\u001b[0m     \u001b[0mdataframes\u001b[0m\u001b[0;34m.\u001b[0m\u001b[0mappend\u001b[0m\u001b[0;34m(\u001b[0m\u001b[0mpd\u001b[0m\u001b[0;34m.\u001b[0m\u001b[0mDataFrame\u001b[0m\u001b[0;34m.\u001b[0m\u001b[0mfrom_dict\u001b[0m\u001b[0;34m(\u001b[0m\u001b[0msite\u001b[0m\u001b[0;34m[\u001b[0m\u001b[0;34m\"market\"\u001b[0m\u001b[0;34m]\u001b[0m\u001b[0;34m,\u001b[0m \u001b[0morient\u001b[0m\u001b[0;34m=\u001b[0m\u001b[0;34m'index'\u001b[0m\u001b[0;34m)\u001b[0m\u001b[0;34m)\u001b[0m\u001b[0;34m\u001b[0m\u001b[0;34m\u001b[0m\u001b[0m\n",
      "\u001b[0;31mNameError\u001b[0m: name 'nuggets_props' is not defined"
     ]
    }
   ],
   "source": [
    "#Process data\n",
    "dataframes = []\n",
    "for site in nuggets_props[\"sportsbooks\"]:\n",
    "    print(site[\"bookie_key\"])\n",
    "    dataframes.append(pd.DataFrame.from_dict(site[\"market\"], orient='index'))\n",
    "    "
   ]
  },
  {
   "cell_type": "code",
   "execution_count": 34,
   "id": "040e4f1c",
   "metadata": {},
   "outputs": [],
   "source": [
    "# Write data to csv file\n",
    "os.makedirs('data/20240112', exist_ok=True)  \n",
    "dataframes[0].to_csv('data/20240112/nuggets_' + nuggets_props[\"sportsbooks\"][0][\"bookie_key\"] + '.csv')  "
   ]
  }
 ],
 "metadata": {
  "kernelspec": {
   "display_name": "Python 3",
   "language": "python",
   "name": "python3"
  },
  "language_info": {
   "codemirror_mode": {
    "name": "ipython",
    "version": 3
   },
   "file_extension": ".py",
   "mimetype": "text/x-python",
   "name": "python",
   "nbconvert_exporter": "python",
   "pygments_lexer": "ipython3",
   "version": "3.8.8"
  }
 },
 "nbformat": 4,
 "nbformat_minor": 5
}
